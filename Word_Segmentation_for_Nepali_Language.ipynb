{
  "nbformat": 4,
  "nbformat_minor": 0,
  "metadata": {
    "colab": {
      "name": "Word Segmentation for Nepali Language.ipynb",
      "provenance": [],
      "collapsed_sections": [
        "DqcyWm7xvxQB"
      ],
      "authorship_tag": "ABX9TyMmcnF2bPFyJttVLAY6KxLI",
      "include_colab_link": true
    },
    "kernelspec": {
      "name": "python3",
      "display_name": "Python 3"
    },
    "language_info": {
      "name": "python"
    }
  },
  "cells": [
    {
      "cell_type": "markdown",
      "metadata": {
        "id": "view-in-github",
        "colab_type": "text"
      },
      "source": [
        "<a href=\"https://colab.research.google.com/github/ashishpoudel995/Word-Segmentation-for-Nepali-Language/blob/main/Word_Segmentation_for_Nepali_Language.ipynb\" target=\"_parent\"><img src=\"https://colab.research.google.com/assets/colab-badge.svg\" alt=\"Open In Colab\"/></a>"
      ]
    },
    {
      "cell_type": "markdown",
      "metadata": {
        "id": "_wwbdoVxJzZd"
      },
      "source": [
        "# **Word Segmentation for Nepali Language**"
      ]
    },
    {
      "cell_type": "markdown",
      "metadata": {
        "id": "DqcyWm7xvxQB"
      },
      "source": [
        "## **1. Storing the most common non verb Words**\n",
        "##### *3000 common words taken from website(3000mostcommonwords.com) and just storing non verb words*\n",
        "##### *Verbal Inflections implemented in later stages. So, no need to store Verbs as of now*"
      ]
    },
    {
      "cell_type": "code",
      "metadata": {
        "id": "zMJFlzL7G77u"
      },
      "source": [
        "import pandas as pd"
      ],
      "execution_count": null,
      "outputs": []
    },
    {
      "cell_type": "code",
      "metadata": {
        "id": "C-H8WGJ-HYoF"
      },
      "source": [
        "csv=pd.read_csv(\"3000-common-words.csv\")"
      ],
      "execution_count": null,
      "outputs": []
    },
    {
      "cell_type": "code",
      "metadata": {
        "colab": {
          "base_uri": "https://localhost:8080/"
        },
        "id": "ykhnu7HdH-gD",
        "outputId": "d5460204-79d2-43b6-a611-43af56407f9e"
      },
      "source": [
        "print(csv.head())"
      ],
      "execution_count": null,
      "outputs": [
        {
          "output_type": "stream",
          "name": "stdout",
          "text": [
            "   Sr    Words                P.O.S Level Nepali Word\n",
            "0   1    a, an  indefinite, article    A1      एक, एक\n",
            "1   2  abandon                 Verb    B2     त्याग्न\n",
            "2   3  ability                 Noun    A2      क्षमता\n",
            "3   4     able            Adjective    A2       सक्षम\n",
            "4   5    about         prep. Adverb    A1      बारेमा\n"
          ]
        }
      ]
    },
    {
      "cell_type": "code",
      "metadata": {
        "id": "fCCJmZqzIaal"
      },
      "source": [
        "words_collection=[]\n",
        "for index, row in csv.iterrows():\n",
        "  if row[\"P.O.S\"]!=\"Verb\":\n",
        "    if row[\"Nepali Word\"] not in words_collection:\n",
        "      words_collection.append(row[\"Nepali Word\"])"
      ],
      "execution_count": null,
      "outputs": []
    },
    {
      "cell_type": "code",
      "metadata": {
        "colab": {
          "base_uri": "https://localhost:8080/"
        },
        "id": "Dfu625f-wk_z",
        "outputId": "8171b581-bcb3-46d1-8620-6d6285638233"
      },
      "source": [
        "print(len(words_collection))"
      ],
      "execution_count": null,
      "outputs": [
        {
          "output_type": "stream",
          "name": "stdout",
          "text": [
            "2204\n"
          ]
        }
      ]
    },
    {
      "cell_type": "markdown",
      "metadata": {
        "id": "9NcyVlYas_KE"
      },
      "source": [
        "##**Index:**\n",
        "#####LGH-Low grade Honorific\n",
        "#####MGH-Mid grade Honorific\n",
        "#####HGH-High grade Honorific"
      ]
    },
    {
      "cell_type": "markdown",
      "metadata": {
        "id": "xLDRBWBHt5V5"
      },
      "source": [
        "##**2. Regular Verbs- Type 1**"
      ]
    },
    {
      "cell_type": "code",
      "metadata": {
        "id": "8be2SLveLHlS"
      },
      "source": [
        "#Verb Stems\n",
        "verb_stems=[\"घुम्\",\"सुत्\",\"पढ्\",\"पर्\",\"गर्\",\"हेर्\",\"सुन्\",\"भन्\",\"बोल्\",\"चल्\",\"मुत्\",\"लेख्\",\"बुझ्\",\"उठ्\",\"खेल्\",\"सोच्\",\"खोज्\",\"हास्\",\"हाक्\",\"भेट्\",\"बेच्\",\"किन्\",\"देख्\",\"थुक्\",\"चोर्\",\"जीत्\",\"खोल्\",\"पोल्\",\"काट्\",\"सक्\",\"सिक्\",\"रोक्\",\"थाप्\",\"पुग्\",\"पिट्\",\"बग्\",\"चल्\",\"मान्\",\"माग्\",\"नाच्\",\"बाच्\",\"फेर्\",\"मार्\",\"खिच्\",\"थिच्\",\"फुल्\",\"बाल्\",\"निभ्\",\"कुद्\",\"तात्\",\"हार्\",\"राख्\",\"मिल्\",\"खस्\"]\n",
        "\n",
        "conjugated_forms=[]\n",
        "\n",
        "##All possible conjugations for Regular Verbs- Type 1\n",
        "\n",
        "for verb in verb_stems:\n",
        "  #Affirmative Paradigm\n",
        "  #1s\n",
        "  conjugated_forms.append(verb+\"छु\")\n",
        "  conjugated_forms.append(verb[0:len(verb)-1]+\"े\")\n",
        "  conjugated_forms.append(verb[0:len(verb)-1]+\"ाैला\")\n",
        "\n",
        "  #1p\n",
        "  conjugated_forms.append(verb+\"छौ\")\n",
        "  conjugated_forms.append(verb+\"यौ\")\n",
        "  conjugated_forms.append(verb[0:len(verb)-1]+\"ाैला\")\n",
        "\n",
        "  #2,s,m,LGH\n",
        "  conjugated_forms.append(verb+\"छस्\")\n",
        "  conjugated_forms.append(verb[0:len(verb)-1]+\"िस्\")\n",
        "  conjugated_forms.append(verb+\"लास्\")\n",
        "\n",
        "  #2,s,f,LGH\n",
        "  conjugated_forms.append(verb+\"छेस्\")\n",
        "  conjugated_forms.append(verb[0:len(verb)-1]+\"िस्\")\n",
        "  conjugated_forms.append(verb+\"लिस्\")\n",
        "\n",
        "  #2,s,m,MGH\n",
        "  conjugated_forms.append(verb+\"छौ\")\n",
        "  conjugated_forms.append(verb+\"यौ\")\n",
        "  conjugated_forms.append(verb[0:len(verb)-1]+\"ाैला\")\n",
        "\n",
        "  #2,s,f,MGH\n",
        "  conjugated_forms.append(verb+\"छेउ\")\n",
        "  conjugated_forms.append(verb+\"यौ\")\n",
        "  conjugated_forms.append(verb[0:len(verb)-1]+\"ाैली\")\n",
        "\n",
        "  #2,p,m/f,MGH\n",
        "  conjugated_forms.append(verb+\"छौ\")\n",
        "  conjugated_forms.append(verb+\"यौ\")\n",
        "  conjugated_forms.append(verb[0:len(verb)-1]+\"ाैला\")\n",
        "\n",
        "  #3,s,m,LGH\n",
        "  conjugated_forms.append(verb+\"छ\")\n",
        "  conjugated_forms.append(verb+\"यो\")\n",
        "  conjugated_forms.append(verb+\"ला\")\n",
        "\n",
        "  #3,s,f,LGH\n",
        "  conjugated_forms.append(verb+\"छे\")\n",
        "  conjugated_forms.append(verb[0:len(verb)-1]+\"ी\")\n",
        "  conjugated_forms.append(verb+\"ली\")\n",
        "\n",
        "  #3,s,m,MGH\n",
        "  conjugated_forms.append(verb+\"छन्\")\n",
        "  conjugated_forms.append(verb[0:len(verb)-1]+\"े\")\n",
        "  conjugated_forms.append(verb+\"लान्\")\n",
        "\n",
        "  #3,s,f,MGH\n",
        "  conjugated_forms.append(verb+\"छिन्\")\n",
        "  conjugated_forms.append(verb+\"िन्\")\n",
        "  conjugated_forms.append(verb+\"लिन्\")\n",
        "\n",
        "  #3,p,m/f,MGH\n",
        "  conjugated_forms.append(verb+\"छन्\")\n",
        "  conjugated_forms.append(verb[0:len(verb)-1]+\"े\")\n",
        "  conjugated_forms.append(verb+\"लान्\")\n",
        "\n",
        "  #HGH\n",
        "  conjugated_forms.append(verb+\"नुहुन्छ\")\n",
        "  conjugated_forms.append(verb+\"नुभयो\")\n",
        "  conjugated_forms.append(verb+\"नुहोला\")\n",
        "\n",
        "  #Negative Paradigm\n",
        "  #1s\n",
        "  conjugated_forms.append(verb+\"दिन\")\n",
        "  conjugated_forms.append(verb+\"िन\")\n",
        "  conjugated_forms.append(\"न\"+verb[0:len(verb)-1]+\"ुला\")\n",
        "  #1p\n",
        "  conjugated_forms.append(verb+\"दैनौ\")\n",
        "  conjugated_forms.append(verb+\"िनौ\")\n",
        "  conjugated_forms.append(\"न\"+verb[0:len(verb)-1]+\"ाैला\")\n",
        "\n",
        "  #2,s,m,LGH\n",
        "  conjugated_forms.append(verb+\"दैनस्\")\n",
        "  conjugated_forms.append(verb[0:len(verb)-1]+\"िनस्\")\n",
        "  conjugated_forms.append(\"न\"+verb+\"लास्\")\n",
        "\n",
        "  #2,s,f,LGH\n",
        "  conjugated_forms.append(verb+\"दैनेस्\")\n",
        "  conjugated_forms.append(verb[0:len(verb)-1]+\"िनेस्\")\n",
        "  conjugated_forms.append(\"न\"+verb+\"लिस्\")\n",
        "\n",
        "  #2,s,m,MGH\n",
        "  conjugated_forms.append(verb+\"दैनौ\")\n",
        "  conjugated_forms.append(verb[0:len(verb)-1]+\"ेनौ\")\n",
        "  conjugated_forms.append(\"न\"+verb[0:len(verb)-1]+\"ाैला\")\n",
        "\n",
        "  #2,s,f,MGH\n",
        "  conjugated_forms.append(verb+\"दिनौ\")\n",
        "  conjugated_forms.append(verb[0:len(verb)-1]+\"िनौ\")\n",
        "  conjugated_forms.append(\"न\"+verb[0:len(verb)-1]+\"ाैली\")\n",
        "\n",
        "  #2,p,m/f,MGH\n",
        "  conjugated_forms.append(verb+\"दैनौ\")\n",
        "  conjugated_forms.append(verb[0:len(verb)-1]+\"ेनौ\")\n",
        "  conjugated_forms.append(\"न\"+verb[0:len(verb)-1]+\"ाैला\")\n",
        "\n",
        "  #3,s,m,LGH\n",
        "  conjugated_forms.append(verb+\"दैन\")\n",
        "  conjugated_forms.append(verb[0:len(verb)-1]+\"ेन\")\n",
        "  conjugated_forms.append(\"न\"+verb+\"ला\")\n",
        "\n",
        "  #3,s,f,LGH\n",
        "  conjugated_forms.append(verb+\"दैने\")\n",
        "  conjugated_forms.append(verb[0:len(verb)-1]+\"िन\")\n",
        "  conjugated_forms.append(\"न\"+verb+\"ली\")\n",
        "\n",
        "  #3,s,m,MGH\n",
        "  conjugated_forms.append(verb+\"दैनन्\")\n",
        "  conjugated_forms.append(verb[0:len(verb)-1]+\"ेनन्\")\n",
        "  conjugated_forms.append(\"न\"+verb+\"लान्\")\n",
        "\n",
        "  #3,s,f,MGH\n",
        "  conjugated_forms.append(verb+\"दैनिन्\")\n",
        "  conjugated_forms.append(verb[0:len(verb)-1]+\"िनन्\")\n",
        "  conjugated_forms.append(\"न\"+verb+\"लिन्\")\n",
        "\n",
        "  #3,p,m/f,MGH\n",
        "  conjugated_forms.append(verb+\"दैनन्\")\n",
        "  conjugated_forms.append(verb[0:len(verb)-1]+\"ेनन्\")\n",
        "  conjugated_forms.append(\"न\"+verb+\"लान्\")\n",
        "\n",
        "  #HGH\n",
        "  conjugated_forms.append(verb+\"नुहुदैन\")\n",
        "  conjugated_forms.append(verb+\"नुभएन\")\n",
        "  conjugated_forms.append(\"न\"+verb+\"नुहोला\")\n",
        "\n",
        "  #Past Habitual Paradigm\n",
        "  #1s(m/f)\n",
        "  conjugated_forms.append(verb+\"थे\")\n",
        "  conjugated_forms.append(verb+\"दिनथे\")\n",
        "  conjugated_forms.append(verb+\"दैनथे\")\n",
        "\n",
        "  #1p\n",
        "  conjugated_forms.append(verb+\"थेउ\")\n",
        "  conjugated_forms.append(verb+\"दैनथेउ\")\n",
        "\n",
        "  #2,s,m,LGH\n",
        "  conjugated_forms.append(verb+\"थिस्\")\n",
        "  conjugated_forms.append(verb+\"दैनथिस्\")\n",
        "\n",
        "  #2,s,f,LGH\n",
        "  conjugated_forms.append(verb+\"थिस्\")\n",
        "  conjugated_forms.append(verb+\"दैनथिस्\")\n",
        "\n",
        "  #2,s,m,MGH\n",
        "  conjugated_forms.append(verb+\"थेउ\")\n",
        "  conjugated_forms.append(verb+\"दैनथेउ\")\n",
        "\n",
        "  #2,s,f,MGH\n",
        "  conjugated_forms.append(verb+\"थेउ\")\n",
        "  conjugated_forms.append(verb+\"दैनथेउ\")\n",
        "\n",
        "  #2,p,m/f,MGH\n",
        "  conjugated_forms.append(verb+\"थेउ\")\n",
        "  conjugated_forms.append(verb+\"दैनथेउ\")\n",
        "\n",
        "  #3,s,m,LGH\n",
        "  conjugated_forms.append(verb+\"थ्यो\")\n",
        "  conjugated_forms.append(verb+\"दैनथ्यो\")\n",
        "\n",
        "  #3,s,f,LGH\n",
        "  conjugated_forms.append(verb+\"थी\")\n",
        "  conjugated_forms.append(verb+\"दैनथी\")\n",
        "\n",
        "  #3,s,m,MGH\n",
        "  conjugated_forms.append(verb+\"थे\")\n",
        "  conjugated_forms.append(verb+\"दैनथे\")\n",
        "\n",
        "  #3,s,f,MGH\n",
        "  conjugated_forms.append(verb+\"थिन्\")\n",
        "  conjugated_forms.append(verb+\"दैनथिन्\")\n",
        "\n",
        "  #3,p,m/f,MGH\n",
        "  conjugated_forms.append(verb+\"थे\")\n",
        "  conjugated_forms.append(verb+\"दैनथे\")\n",
        "\n",
        "  #HGH\n",
        "  conjugated_forms.append(verb+\"नुहुन्थ्यो\")\n",
        "  conjugated_forms.append(verb+\"नुहुदैनथ्यो\")\n",
        "  conjugated_forms.append(verb+\"नुहुन्नथ्यो\")"
      ],
      "execution_count": null,
      "outputs": []
    },
    {
      "cell_type": "code",
      "metadata": {
        "colab": {
          "base_uri": "https://localhost:8080/"
        },
        "id": "4JEgDkJIu4WN",
        "outputId": "cfb588f6-2dce-481a-cafd-1fe6f11d4778"
      },
      "source": [
        "print(\"Total Verb stems are:\",len(verb_stems))\n",
        "print(\"Total conjugated Forms of the verbs are:\",len(conjugated_forms))"
      ],
      "execution_count": null,
      "outputs": [
        {
          "output_type": "stream",
          "name": "stdout",
          "text": [
            "Total Verb stems are: 54\n",
            "Total conjugated Forms of the verbs are: 5724\n"
          ]
        }
      ]
    },
    {
      "cell_type": "code",
      "metadata": {
        "id": "XvNFMQbW5Bap"
      },
      "source": [
        "suffix_type1=[\"छु\",\"छौ\",\"यौ\",\"छस्\",\"लास्\",\"छेस्\",\"लिस्\",\"छेउ\",\"छ\",\"यो\",\"ला\",\"छे\",\"ली\",\"छन्\",\"लान्\",\"छिन्\",\"िन्\",\"लिन्\",\"नुहुन्छ\",\"नुभयो\",\"नुहोला\",\"दिन\",\"िन\",\"दैनौ\",\"िनौ\",\"दैनस्\",\"दैनेस्\",\"दिनौ\",\"दैन\",\"दैने\",\"दैनन्\",\"दैनिन्\",\"नुहुदैन\",\"नुभएन\",\"थे\",\"दिनथे\",\"दैनथे\",\"थेउ\",\"दैनथेउ\",\"थिस्\",\"दैनथिस्\",\"थ्यो\",\"दैनथ्यो\",\"थी\",\"दैनथी\",\"थिन्\",\"दैनथिन्\",\"नुहुन्थ्यो\",\"नुहुदैनथ्यो\",\"नुहुन्नथ्यो\"]\n",
        "suffix_type2=[\"े\",\"ाैला\",\"िस्\",\"ाैली\",\"ी\",\"िनस्\",\"िनेस्\",\"ेनौ\",\"िनौ\",\"ेन\",\"िन\",\"ेनन्\",\"िनन्\"]\n",
        "suffix_type3=[\"लास्\",\"लिस्\",\"ला\",\"ली\",\"लान्\",\"लिन्\",\"नुहोला\"]\n",
        "suffix_type4=[\"ुला\",\"ाैला\",\"ाैली\"]\n",
        "\n",
        "def check_if_valid_verbConjugation(word):\n",
        "  for i in range(len(word)):\n",
        "    curr=word[0:i+1]\n",
        "    rem=word[i+1:]\n",
        "    if (curr in verb_stems and rem in suffix_type1):\n",
        "      return True\n",
        "    elif ((curr+chr(2381)) in verb_stems and rem in suffix_type2):\n",
        "      return True\n",
        "    elif ord(word[0])==2344:\n",
        "      curr=word[1:i+1]\n",
        "      rem=word[i+1:]\n",
        "      if (curr in verb_stems and rem in suffix_type3):\n",
        "        return True\n",
        "      elif ((curr+chr(2381)) in verb_stems and rem in suffix_type4):\n",
        "        return True\n",
        "  return False"
      ],
      "execution_count": null,
      "outputs": []
    },
    {
      "cell_type": "markdown",
      "metadata": {
        "id": "FZduZxOaxVeQ"
      },
      "source": [
        "##**3. Simpler Matching Algorithm**"
      ]
    },
    {
      "cell_type": "code",
      "metadata": {
        "colab": {
          "base_uri": "https://localhost:8080/"
        },
        "id": "nwqsBM9NxcEp",
        "outputId": "b4481c99-5d19-4200-fc43-84e079171aca"
      },
      "source": [
        "input_string=\"मएकसक्षमडिजाइनरमघुम्छु\"\n",
        "res=\"\"\n",
        "start=0\n",
        "for i in range (len(input_string)):\n",
        "    #tracking the current word\n",
        "    curr_string=input_string[start:i+1]\n",
        "\n",
        "    #check if the current word is present in either words_collection(non verb collection) or generated conjugated forms of the verbs.\n",
        "    if(curr_string in words_collection or check_if_valid_verbConjugation(curr_string)):\n",
        "        #if the word is considered to be a valid word, append it to result and add space(Nepali is a segmented language)\n",
        "        res=res+curr_string+\" \"\n",
        "        start=i+1\n",
        "\n",
        "#Finally print the result of the Simpler Matching Algorithm\n",
        "print(\"The segmented words are:\")\n",
        "print(res)"
      ],
      "execution_count": null,
      "outputs": [
        {
          "output_type": "stream",
          "name": "stdout",
          "text": [
            "The segmented words are:\n",
            "म एक सक्षम डिजाइन र म घुम्छ \n"
          ]
        }
      ]
    },
    {
      "cell_type": "markdown",
      "metadata": {
        "id": "rVGDrxsnzMPj"
      },
      "source": [
        "## **4. Maximal Matching Algorithm**"
      ]
    },
    {
      "cell_type": "code",
      "metadata": {
        "colab": {
          "base_uri": "https://localhost:8080/"
        },
        "id": "_bfRyI7qzXOQ",
        "outputId": "c26ac84d-67d7-440f-a7b2-c32ea7956401"
      },
      "source": [
        "res=\"\"\n",
        "start=0\n",
        "while start<len(input_string):\n",
        "    max_word=\"\"\n",
        "    for i in range(start, len(input_string)):\n",
        "        curr_word=input_string[start:i+1]\n",
        "        if curr_word in words_collection or check_if_valid_verbConjugation(curr_word):\n",
        "          if len(curr_word)>len(max_word):\n",
        "            max_word=curr_word\n",
        "    if(len(max_word)==0):\n",
        "        res+=input_string[i:i+1]+\" \"\n",
        "        start=start+1\n",
        "    else:\n",
        "        start=start+len(max_word)\n",
        "        res+=max_word+\" \"\n",
        "print(res)"
      ],
      "execution_count": null,
      "outputs": [
        {
          "output_type": "stream",
          "name": "stdout",
          "text": [
            "म एक सक्षम डिजाइनर म घुम्छु \n"
          ]
        }
      ]
    },
    {
      "cell_type": "markdown",
      "metadata": {
        "id": "sZPfP87E5vGF"
      },
      "source": [
        "## **5. Bidirectional Maximal Matching Algorithm**"
      ]
    },
    {
      "cell_type": "code",
      "metadata": {
        "colab": {
          "base_uri": "https://localhost:8080/"
        },
        "id": "vDUR7LHb54jV",
        "outputId": "72f64fa3-6098-4cb8-f5af-b45e2f17caae"
      },
      "source": [
        "res_left=\"\"\n",
        "\n",
        "#Scan from left\n",
        "start=0\n",
        "left_count=0\n",
        "while start<len(input_string):\n",
        "    max_word=\"\"\n",
        "    for i in range(start, len(input_string)):\n",
        "        curr_word=input_string[start:i+1]\n",
        "        if curr_word in words_collection or check_if_valid_verbConjugation(curr_word):\n",
        "          if len(curr_word)>len(max_word):\n",
        "            max_word=curr_word\n",
        "    if(len(max_word)==0):\n",
        "        left_count=left_count+1\n",
        "        res_left+=input_string[i:i+1]+\" \"\n",
        "        start=start+1\n",
        "    else:\n",
        "        start=start+len(max_word)\n",
        "        res_left+=max_word+\" \"\n",
        "\n",
        "#Scan from right\n",
        "res_right=\"\"\n",
        "start=len(input_string)-1\n",
        "right_count=0\n",
        "while start>=0:\n",
        "    max_word=\"\"\n",
        "    i=start\n",
        "    while i>=0:\n",
        "        curr_word=input_string[i:start+1]\n",
        "        if curr_word in words_collection or check_if_valid_verbConjugation(curr_word):\n",
        "          if len(curr_word)>len(max_word):\n",
        "            max_word=curr_word\n",
        "        i=i-1\n",
        "    if (len(max_word)==0):\n",
        "        res_right+=input_string[i:i+1]+\" \"\n",
        "        start=start-1\n",
        "        right_count=right_count+1\n",
        "    else:\n",
        "        start=start-len(max_word)\n",
        "        res_right+=max_word+\" \"\n",
        "\n",
        "#Print the best scan\n",
        "if left_count<=right_count:\n",
        "  print(res_left)\n",
        "else:\n",
        "  print(res_right)"
      ],
      "execution_count": null,
      "outputs": [
        {
          "output_type": "stream",
          "name": "stdout",
          "text": [
            "म एक सक्षम डिजाइनर म घुम्छु \n"
          ]
        }
      ]
    },
    {
      "cell_type": "markdown",
      "metadata": {
        "id": "x7kK4Jf28Ffm"
      },
      "source": [
        "## **Maximum Matching Algorithm**"
      ]
    },
    {
      "cell_type": "markdown",
      "metadata": {
        "id": "sdrONjbV_Y1h"
      },
      "source": [
        "## **Prac**"
      ]
    }
  ]
}